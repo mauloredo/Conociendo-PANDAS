#EJERCICIO ALUMNOS
{
 "cells": [
  {
   "cell_type": "code",
   "execution_count": null,
   "id": "cargar-datos",
   "metadata": {},
   "outputs": [],
   "source": [
    "import pandas as pd\n",
    "\n",
    "# URL del archivo CSV\n",
    "url = \"https://gist.githubusercontent.com/ahcamachod/807a2c1cf6c19108b2b701ea1791ab45/raw/fb84f8b2d8917a89de26679eccdbc8f9c1d2e933/alumnos.csv\"\n",
    "\n",
    "# Cargar el DataFrame\n",
    "df = pd.read_csv(url)\n",
    "\n",
    "# Mostrar las primeras filas\n",
    "df.head()"
   ]
  }
 ],
 "metadata": {},
 "nbformat": 4,
 "nbformat_minor": 5
}
